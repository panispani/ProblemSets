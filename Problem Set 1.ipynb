{
 "cells": [
  {
   "cell_type": "code",
   "execution_count": 3,
   "metadata": {},
   "outputs": [],
   "source": [
    "import spacy\n",
    "import numpy as np\n",
    "import pandas as pd\n",
    "import os\n",
    "%matplotlib notebook"
   ]
  },
  {
   "cell_type": "code",
   "execution_count": 2,
   "metadata": {},
   "outputs": [],
   "source": [
    "nlp = spacy.load('en')"
   ]
  },
  {
   "cell_type": "code",
   "execution_count": 37,
   "metadata": {},
   "outputs": [
    {
     "name": "stdout",
     "output_type": "stream",
     "text": [
      "2\n",
      "7\n",
      "['+4+', '+2+', '+1+', '+4+', '+1+', '+3+', '+4+', '+2+', '+5+', '+1+']\n",
      "['+this+', '+is+', '+a+', '+text+', '+.+', '+and+', '+some+', '+  +', '+other+', '+!+']\n"
     ]
    }
   ],
   "source": [
    "doc = nlp(\"this is a text. and some   other!\")\n",
    "sentences = len(list(doc.sents))\n",
    "words = sum([1 for token in doc if not token.is_space if not token.is_punct])\n",
    "l\n",
    "print(sentences)\n",
    "print(words)\n",
    "print([\"+{}+\".format(len(token)) for token in doc])\n",
    "print([\"+{}+\".format(token) for token in doc])\n"
   ]
  },
  {
   "cell_type": "code",
   "execution_count": 11,
   "metadata": {},
   "outputs": [
    {
     "name": "stdout",
     "output_type": "stream",
     "text": [
      " STONE , Circuit Judge.\n",
      "This is an action to recover reparation for a freight overcharge.\n",
      "The matter was first presented to the Interstate Commerce Commission, which found there had been an overcharge and declared reparation.\n",
      "The railway having failed to pay the amount found due by the Commission, the present suit resulted.\n",
      "From the judgment according reparation this appeal is brought.\n",
      "The facts here are not in dispute and are as follows: These shipments were of carloads of grain originating on various points in Minnesota, North and South Dakota, upon the line of appellant.\n",
      "All of them were consigned to Minneapolis and there later sent (by reconsignment without breakage of bulk in the same cars) to Superior, Wis. Appellant had in force rate tariffs prescribing certain rates from the points of origin of these shipments to Superior, rates to Minneapolis, and \"proportional\" rates from Minneapolis to Superior.\n",
      "In the instance of each shipment there was a shorter mileage route from the point of origin to Superior, and in each instance the rate to Superior was less than the combination of the rate to Minneapolis plus the proportional rate from Minneapolis to Superior.\n",
      "The tariffs covering rates from the points of origin to Superior did not indicate that such rates were upon any particular route.\n",
      "The distances from the points of origin to Superior via Minneapolis were greater than those direct from points of origin to Superior--the greatest divergence being 23 per cent. These shipments originated west or north of west of Minneapolis, and Superior is north and slightly east of Minneapolis.\n",
      "The carrier applied the Minneapolis plus the proportional Superior rate to these shipments, thus making a higher charge than the rates applying from points of origin to Superior direct.\n",
      "It is for this difference in charge that this action is brought.\n",
      "The issues here involved have to do with the proper construction of this tariff.\n",
      "Several points have been briefed and argued, but they may be resolved into two questions.\n",
      "The first is whether a rule of tariff construction repeatedly announced by the Commission and applied in this case is lawful and proper; and, second, whether the Commission properly applied that rule to the facts of this case. I. The rule of construction employed by the Commission is that where there is more than one route from a point of origin to destination, a rate between those points applies to a shipment over any one of those routes unless that route is unreasonably circuitous or unless the carrier has limited the rate in the tariff to a particular route designated therein.\n",
      "This rule has been repeatedly announced and applied by the Commission.\n",
      "Mason Bros. v. Southern Pac. Co., 28 I. C. C. 402; Van Dusen Harrington Co. v. C., M. & St. P. Ry. Co., 47 I. C. C. 59; Meeds L. Co. v. Director General, 59 I. C. C. 243; Freeman Grain Co. v. Director General, 68 I. C. C. 559; Pioneer L. Co. v. Director General, 74 I. C. C. 288; Baker-Reid L. Co. v. B. & O. R. R. Co., 74 I. C. C. 489; Richardson Sand Co. v. Director General, 89 I. C. C. 555; Steinhardt & Kelly v. Erie R. R. Co., 96 I. C. C. 229; Scott County Farm Bureau v. A. & V. Ry. Co., 101 I. C. C. 357; Browne-Hinton Wholesale Grocery Co. v. Great Northern Ry. Co., 102 I. C. C. 237; Northwestern Fruit Exchange v. Great Northern Ry. Co., 128 I. C. C. 538; Atwood Davis Sand Co. v. C. & N. W. Ry. Co., 136 I. C. C. 471.\n",
      "Where a departmental ruling or construction has been of long standing and application, it should be accepted unless \"plainly wrong.\"\n",
      "Universal Battery Co. v. United States , 281 U. S. 580 , 50 S. Ct. 422 , 74 L. Ed. 1051 ; Brewster v. Gage , 280 U. S. 327, 336 , 50 S. Ct. 115 , 74 L. Ed. 457 ; United States v. Jackson , 280 U. S. 183, 193 , 50 S. Ct. 143 , 74 L. Ed. 361 ; Luckenbach S. S. Co. v. United States , 280 U. S. 173, 182 , 50 S. Ct. 148 , 74 L. Ed. 356 .\n",
      "This is particularly true where the subject matter of the regulation requires uniformity and is technical in character, as are railway rate tariffs.\n",
      "Board of R. R. Com'rs v. Great Northern Ry. Co. , 281 U. S. 412 , 50 S. Ct. 391 , 74 L. Ed. 936 .\n",
      "The rule of tariff construction involved here is firmly established in statement and application by the Commission (cases first above cited).\n",
      "It should not be set aside or disregarded unless clearly opposed to law or unreasonable.\n",
      "The reasoning creating the rule is that the carrier may, if it has a particular route in mind for a particular tariff, easily express its intention in the tariff; that not to do so leaves the tariff difficult of construction for the shipper and the local agent of the carrier; that in opening the door for more than one meaning the tariff creates a situation where different interpretations by different local agents might result in discrimination between shippers.\n",
      "This reasoning impresses us as being essentially sound.\n",
      "Therefore, the rule of construction of the Commission should be and is approved.\n",
      "The insistence of the carrier that its intention and its custom of sending direct shipments otherwise than through Minneapolis does not have any weight when applied to the above rule of construction because tariffs \"are construed according to their language, and the intention of the framers is not controlling\" (Baker-Reid L. Co. v. B. & O. R. R. Co., 74 I. C. C. 489, 491; also see Charles Boldt Co. v. P., C., C. & St. L. Ry. Co., 42 I. C. C. 308, 310), and a custom of routing by the carrier is not material (Kentucky L. Co. v. St. L.-San F. Ry. Co., 51 I. C. C. 203, 204).\n",
      "The carrier could easily have protected itself from any doubt by merely stating its intention in the tariff, and thus, accomplish its result without any uncertainty or confusion.\n",
      "The contention of the carrier that to adopt the above rule as applied to these facts would result in a violation of the \"long and short haul\" clause of section 4 of the Interstate Commerce Act as amended (49 USCA 4) is not well made.\n",
      "That section applies to \"the same line or route in the same direction, the shorter being included within the longer distance.\"\n",
      "As to these shipments, the shorter haul is not included within the longer distance.\n",
      "The question here is as to different routes between the same termini.\n",
      "The evil which that section was intended to do away with is well known and it had nothing to do with a situation such as is here presented.\n",
      "The construction contended for would take away all power of the carrier to select a choice of routes between the same termini unless it made a difference in the rate.\n",
      "It is clear that such a choice is very often to the advantage both of the carrier and the shipping public, that there could be no useful purpose in forbidding such a choice, and that it was not the intention of the above section to announce a prohibition of this character.\n",
      "II.\n",
      "The Commission is supported by substantial evidence in its determination of the facts in this case. The above rule has application only to routes which are reasonably circuitous.\n",
      "It is obvious that what is reasonable, in the above sense, is dependent upon circumstances.\n",
      "Here, the facts are that the movement on the shortest or on the longest routes involved was always away from the point of origin and nearer to the point of ultimate destination (Superior, Wis.), and that the longer route was a thoroughly feasible, workable route which the carrier might and could easily use.\n",
      "The greatest mileage divergence of any of these shipments was 23 per cent. See Scott County Farm Bureau v. A. & V. Ry. Co., 101 I. C. C. 357, where one route was about three times as long as the most direct route.\n",
      "Conclusion: The judgment of the trial court should be, and is, affirmed.\n",
      "\n"
     ]
    }
   ],
   "source": [
    "# /Users/panayiotis/ETH/law/problem_sets/p1/data\n",
    "# for every case .txt in that directory keep 'id', 'number of sentences' 'words', 'letters' and make a histogram\n",
    "path_inputs = os.path.join('data', 'cases')\n",
    "path_labels = os.path.join('data')\n",
    "\n",
    "df = pd.DataFrame(columns=['ID', 'Sentences', 'Words', 'Letters'])\n",
    "\n",
    "In [89]: s = df.iloc[3]\n",
    "\n",
    "In [90]: df.append(s, ignore_index=True)\n",
    "\n",
    "i = 0\n",
    "for filename in os.listdir(path_inputs):\n",
    "    i += 1\n",
    "    if i > 3:\n",
    "        break\n",
    "    with open(os.path.join(path_inputs, filename)) as f:\n",
    "        doc = nlp(f.read())\n",
    "        \n",
    "        \n",
    "\n",
    "# df1[['year','citeCount']].hist()\n",
    "# df1 = pd.read_csv('death-penalty-cases.csv')"
   ]
  }
 ],
 "metadata": {
  "kernelspec": {
   "display_name": "Python 3",
   "language": "python",
   "name": "python3"
  },
  "language_info": {
   "codemirror_mode": {
    "name": "ipython",
    "version": 3
   },
   "file_extension": ".py",
   "mimetype": "text/x-python",
   "name": "python",
   "nbconvert_exporter": "python",
   "pygments_lexer": "ipython3",
   "version": "3.6.7"
  }
 },
 "nbformat": 4,
 "nbformat_minor": 2
}
